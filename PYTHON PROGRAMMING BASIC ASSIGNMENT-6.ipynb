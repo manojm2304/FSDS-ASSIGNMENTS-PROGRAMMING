{
 "cells": [
  {
   "cell_type": "markdown",
   "id": "27a05b37",
   "metadata": {},
   "source": [
    "# PYTHON PROGRAMMING BASIC ASSIGNMENT-6"
   ]
  },
  {
   "cell_type": "markdown",
   "id": "4b71250a",
   "metadata": {},
   "source": [
    "1.\tWrite a Python Program to Display Fibonacci Sequence Using Recursion?\n",
    "2.\tWrite a Python Program to Find Factorial of Number Using Recursion?\n",
    "3.\tWrite a Python Program to calculate your Body Mass Index?\n",
    "4.\tWrite a Python Program to calculate the natural logarithm of any number?\n",
    "5.\tWrite a Python Program for cube sum of first n natural numbers?"
   ]
  },
  {
   "cell_type": "code",
   "execution_count": 1,
   "id": "5bf11060",
   "metadata": {},
   "outputs": [
    {
     "name": "stdout",
     "output_type": "stream",
     "text": [
      "Enter no. of terms:7\n",
      "Fibonacci sequence:\n",
      "0\n",
      "1\n",
      "1\n",
      "2\n",
      "3\n",
      "5\n",
      "8\n"
     ]
    }
   ],
   "source": [
    "#1\n",
    "\n",
    "def fibo_recur(n):\n",
    "    if n <= 1:\n",
    "        return n\n",
    "    elif n < 0:\n",
    "        print(\"Enter a valid +ve integer\")\n",
    "    else:\n",
    "        return(fibo_recur(n-1) + fibo_recur(n-2))\n",
    "\n",
    "inp_ = int(input(\"Enter no. of terms:\"))\n",
    "\n",
    "print(\"Fibonacci sequence:\")\n",
    "for i in range(inp_):\n",
    "    print(fibo_recur(i))"
   ]
  },
  {
   "cell_type": "code",
   "execution_count": 2,
   "id": "70619de3",
   "metadata": {},
   "outputs": [
    {
     "name": "stdout",
     "output_type": "stream",
     "text": [
      "Enter a number = 7\n",
      "The factorial of 7 = 5040\n"
     ]
    }
   ],
   "source": [
    "#2\n",
    "\n",
    "def facto_recur(n):\n",
    "    if n == 1:\n",
    "        return n\n",
    "    else:\n",
    "        return n*facto_recur(n-1)\n",
    "\n",
    "inp1_ = int(input(\"Enter a number = \"))\n",
    "\n",
    "if inp1_ < 0:\n",
    "    print(f\"{inp1_} is a negative number.\")\n",
    "elif inp1_ == 0:\n",
    "    print(\"The factorial of 0 = 1\")\n",
    "else:\n",
    "    print(f\"The factorial of {inp1_} = {facto_recur(inp1_)}\")"
   ]
  },
  {
   "cell_type": "code",
   "execution_count": 3,
   "id": "46664e41",
   "metadata": {},
   "outputs": [
    {
     "name": "stdout",
     "output_type": "stream",
     "text": [
      "Enter height(in metres) and weight(in kgs):1.75 68\n",
      "The BMI of user is: 22.20408163265306\n",
      "User is Healthy\n"
     ]
    }
   ],
   "source": [
    "#3\n",
    "\n",
    "def BMI(height, weight):\n",
    "    bmi = weight/(height**2)\n",
    "    return bmi\n",
    "\n",
    "h,w = [float(x) for x in input(\"Enter height(in \"\"metres\"\") and weight(in \"\"kgs\"\"):\").split(\" \")]\n",
    "user1_ = BMI(h, w)\n",
    "\n",
    "print(f\"The BMI of user is: {user1_}\")\n",
    "if (user1_ < 18.5):\n",
    "    print(\" User is Underweight\")\n",
    "elif (user1_ >= 18.5 and user1_ < 24.9):\n",
    "    print(\"User is Healthy\")\n",
    "elif (user1_ >= 24.9 and user1_ < 30):\n",
    "    print(\"User is Overweight\")\n",
    "elif (user1_ >= 30):\n",
    "    print(\"User is Obese\")\n",
    "\n",
    "\n"
   ]
  },
  {
   "cell_type": "code",
   "execution_count": 4,
   "id": "dc5acfff",
   "metadata": {},
   "outputs": [
    {
     "name": "stdout",
     "output_type": "stream",
     "text": [
      "Enter a number : 15\n",
      "Natural logarithm of 15 : 2.70805020110221 \n"
     ]
    }
   ],
   "source": [
    "#4\n",
    "\n",
    "import math\n",
    "\n",
    "user_inp = int(input(\"Enter a number : \"))\n",
    "print (f\"Natural logarithm of {user_inp} : {math.log(user_inp)} \")"
   ]
  },
  {
   "cell_type": "code",
   "execution_count": 5,
   "id": "dc8a0ec0",
   "metadata": {},
   "outputs": [
    {
     "name": "stdout",
     "output_type": "stream",
     "text": [
      "Enter upper limit of the range : 8\n",
      "Cube sum of first 8 natural nos : 1296\n"
     ]
    }
   ],
   "source": [
    "#5\n",
    "\n",
    "# cube sum of first n natural numbers\n",
    "\n",
    "inp1 = int(input(\"Enter upper limit of the range : \"))\n",
    "\n",
    "sum = 0\n",
    "for i in range(1,inp1+1):\n",
    "    sum += (i**3)\n",
    "\n",
    "print(f\"Cube sum of first {inp1} natural nos : {sum}\")\n",
    "    "
   ]
  }
 ],
 "metadata": {
  "kernelspec": {
   "display_name": "Python 3 (ipykernel)",
   "language": "python",
   "name": "python3"
  },
  "language_info": {
   "codemirror_mode": {
    "name": "ipython",
    "version": 3
   },
   "file_extension": ".py",
   "mimetype": "text/x-python",
   "name": "python",
   "nbconvert_exporter": "python",
   "pygments_lexer": "ipython3",
   "version": "3.9.12"
  }
 },
 "nbformat": 4,
 "nbformat_minor": 5
}
