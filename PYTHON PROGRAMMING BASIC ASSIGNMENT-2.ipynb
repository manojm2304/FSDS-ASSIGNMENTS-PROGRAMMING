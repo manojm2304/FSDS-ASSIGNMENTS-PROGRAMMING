{
 "cells": [
  {
   "cell_type": "markdown",
   "id": "c598a9c1",
   "metadata": {},
   "source": [
    "# PYTHON PROGRAMMING BASIC ASSIGNMENT-2"
   ]
  },
  {
   "cell_type": "markdown",
   "id": "860e7c23",
   "metadata": {},
   "source": [
    "1.\tWrite a Python program to convert kilometers to miles?\n",
    "2.\tWrite a Python program to convert Celsius to Fahrenheit?\n",
    "3.\tWrite a Python program to display calendar?\n",
    "4.\tWrite a Python program to solve quadratic equation?\n",
    "5.\tWrite a Python program to swap two variables without temp variable?"
   ]
  },
  {
   "cell_type": "code",
   "execution_count": 1,
   "id": "7545e84a",
   "metadata": {},
   "outputs": [
    {
     "name": "stdout",
     "output_type": "stream",
     "text": [
      "Enter kms:21\n",
      "Miles from kms converted: 13.125\n"
     ]
    }
   ],
   "source": [
    "#1\n",
    "#miles = k*(5/8)\n",
    "\n",
    "kms = int(input(\"Enter kms:\"))\n",
    "miles = kms*(5/8)\n",
    "\n",
    "print(\"Miles from kms converted:\",miles)"
   ]
  },
  {
   "cell_type": "code",
   "execution_count": 2,
   "id": "fd4c67d2",
   "metadata": {},
   "outputs": [
    {
     "name": "stdout",
     "output_type": "stream",
     "text": [
      "Enter temperature in C:0\n",
      "0 converted to fahrenheit is 32.0\n"
     ]
    }
   ],
   "source": [
    "#2\n",
    "#f = (c*(9/5))+32\n",
    "\n",
    "celsius = int(input(\"Enter temperature in C:\"))\n",
    "fahrenheit = (celsius*(9/5))+32\n",
    "print(f\"{celsius} converted to fahrenheit is {fahrenheit}\")"
   ]
  },
  {
   "cell_type": "code",
   "execution_count": 3,
   "id": "e4967e40",
   "metadata": {},
   "outputs": [
    {
     "name": "stdout",
     "output_type": "stream",
     "text": [
      "Enter the year:2022\n",
      "                                  2022\n",
      "\n",
      "      January                   February                   March\n",
      "Mo Tu We Th Fr Sa Su      Mo Tu We Th Fr Sa Su      Mo Tu We Th Fr Sa Su\n",
      "                1  2          1  2  3  4  5  6          1  2  3  4  5  6\n",
      " 3  4  5  6  7  8  9       7  8  9 10 11 12 13       7  8  9 10 11 12 13\n",
      "10 11 12 13 14 15 16      14 15 16 17 18 19 20      14 15 16 17 18 19 20\n",
      "17 18 19 20 21 22 23      21 22 23 24 25 26 27      21 22 23 24 25 26 27\n",
      "24 25 26 27 28 29 30      28                        28 29 30 31\n",
      "31\n",
      "\n",
      "       April                      May                       June\n",
      "Mo Tu We Th Fr Sa Su      Mo Tu We Th Fr Sa Su      Mo Tu We Th Fr Sa Su\n",
      "             1  2  3                         1             1  2  3  4  5\n",
      " 4  5  6  7  8  9 10       2  3  4  5  6  7  8       6  7  8  9 10 11 12\n",
      "11 12 13 14 15 16 17       9 10 11 12 13 14 15      13 14 15 16 17 18 19\n",
      "18 19 20 21 22 23 24      16 17 18 19 20 21 22      20 21 22 23 24 25 26\n",
      "25 26 27 28 29 30         23 24 25 26 27 28 29      27 28 29 30\n",
      "                          30 31\n",
      "\n",
      "        July                     August                  September\n",
      "Mo Tu We Th Fr Sa Su      Mo Tu We Th Fr Sa Su      Mo Tu We Th Fr Sa Su\n",
      "             1  2  3       1  2  3  4  5  6  7                1  2  3  4\n",
      " 4  5  6  7  8  9 10       8  9 10 11 12 13 14       5  6  7  8  9 10 11\n",
      "11 12 13 14 15 16 17      15 16 17 18 19 20 21      12 13 14 15 16 17 18\n",
      "18 19 20 21 22 23 24      22 23 24 25 26 27 28      19 20 21 22 23 24 25\n",
      "25 26 27 28 29 30 31      29 30 31                  26 27 28 29 30\n",
      "\n",
      "      October                   November                  December\n",
      "Mo Tu We Th Fr Sa Su      Mo Tu We Th Fr Sa Su      Mo Tu We Th Fr Sa Su\n",
      "                1  2          1  2  3  4  5  6                1  2  3  4\n",
      " 3  4  5  6  7  8  9       7  8  9 10 11 12 13       5  6  7  8  9 10 11\n",
      "10 11 12 13 14 15 16      14 15 16 17 18 19 20      12 13 14 15 16 17 18\n",
      "17 18 19 20 21 22 23      21 22 23 24 25 26 27      19 20 21 22 23 24 25\n",
      "24 25 26 27 28 29 30      28 29 30                  26 27 28 29 30 31\n",
      "31\n",
      "\n"
     ]
    }
   ],
   "source": [
    "#3\n",
    "\n",
    "import calendar\n",
    "\n",
    "yr = int(input(\"Enter the year:\"))\n",
    "print(calendar.calendar(yr))"
   ]
  },
  {
   "cell_type": "code",
   "execution_count": 4,
   "id": "39e37376",
   "metadata": {},
   "outputs": [
    {
     "name": "stdout",
     "output_type": "stream",
     "text": [
      "Enter the value of a,b,c1 4 2\n",
      "The given quadratic equation: 1x^2+4x+2\n",
      "-3.414213562373095 and -0.5857864376269049 are the two roots of the quadratic equation\n"
     ]
    }
   ],
   "source": [
    "#4\n",
    "\n",
    "# ax^2+bx+c=0 where a!=0,b,c are real numbers and and are the input for us in this program\n",
    "# we need to first find the determinant which is d = (b^2-4ac)\n",
    "# solution is (-b-d)/(2*a) and (-b+d)/(2*a)\n",
    "\n",
    "a,b,c=[int(x) for x in input(\"Enter the value of a,b,c\").split(\" \")]\n",
    "print(f\"The given quadratic equation: {a}x^2+{b}x+{c}\")\n",
    "if a!=0:\n",
    "    det = (b**2)-(4*a*c)\n",
    "    root1 = (-b-det**(0.5))/(2*a)\n",
    "    root2 = (-b+det**(0.5))/(2*a)\n",
    "    print(f\"{root1} and {root2} are the two roots of the quadratic equation\")\n",
    "else:\n",
    "    print(\"not a valid equation\")"
   ]
  },
  {
   "cell_type": "code",
   "execution_count": 5,
   "id": "8d1e7b4e",
   "metadata": {},
   "outputs": [
    {
     "name": "stdout",
     "output_type": "stream",
     "text": [
      "Enter the value of x and y:21 45\n",
      "Before swap: 21 45\n",
      "After swap: 45 21\n"
     ]
    }
   ],
   "source": [
    "#5\n",
    "\n",
    "x,y = [int(var) for var in input(\"Enter the value of x and y:\").split(\" \")]\n",
    "print(f\"Before swap: {x} {y}\")\n",
    "x,y = y,x\n",
    "print(f\"After swap: {x} {y}\")"
   ]
  }
 ],
 "metadata": {
  "kernelspec": {
   "display_name": "Python 3 (ipykernel)",
   "language": "python",
   "name": "python3"
  },
  "language_info": {
   "codemirror_mode": {
    "name": "ipython",
    "version": 3
   },
   "file_extension": ".py",
   "mimetype": "text/x-python",
   "name": "python",
   "nbconvert_exporter": "python",
   "pygments_lexer": "ipython3",
   "version": "3.9.12"
  }
 },
 "nbformat": 4,
 "nbformat_minor": 5
}
