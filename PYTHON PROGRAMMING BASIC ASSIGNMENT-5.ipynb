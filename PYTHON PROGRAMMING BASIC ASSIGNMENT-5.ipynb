{
 "cells": [
  {
   "cell_type": "markdown",
   "id": "2a39267b",
   "metadata": {},
   "source": [
    "# PYTHON PROGRAMMING BASIC ASSIGNMENT-5"
   ]
  },
  {
   "cell_type": "markdown",
   "id": "c791afab",
   "metadata": {},
   "source": [
    "1.\tWrite a Python Program to Find LCM?\n",
    "2.\tWrite a Python Program to Find HCF?\n",
    "3.\tWrite a Python Program to Convert Decimal to Binary, Octal and Hexadecimal?\n",
    "4.\tWrite a Python Program To Find ASCII value of a character?\n",
    "5.\tWrite a Python Program to Make a Simple Calculator with 4 basic mathematical operations?"
   ]
  },
  {
   "cell_type": "code",
   "execution_count": 1,
   "id": "f4d3eaa2",
   "metadata": {},
   "outputs": [
    {
     "name": "stdout",
     "output_type": "stream",
     "text": [
      "enter numbers: 21 25\n",
      "LCM of 21 and 25: 525\n"
     ]
    }
   ],
   "source": [
    "#1\n",
    "\n",
    "num1,num2 = [int(x) for x in input(\"enter numbers: \").split(\" \")]\n",
    "\n",
    "max_num = max(num1,num2)\n",
    "\n",
    "while(True):\n",
    "    if((max_num % num1 == 0) and (max_num % num2 == 0)):\n",
    "        lcm = max_num\n",
    "        break\n",
    "    max_num += 1\n",
    "\n",
    "print(f\"LCM of {num1} and {num2}: {lcm}\")"
   ]
  },
  {
   "cell_type": "code",
   "execution_count": 2,
   "id": "35fe337a",
   "metadata": {},
   "outputs": [
    {
     "name": "stdout",
     "output_type": "stream",
     "text": [
      "Enter 2 nos:25 324\n",
      "HCF of 25 and 324: 1\n"
     ]
    }
   ],
   "source": [
    "#2\n",
    "\n",
    "inp1,inp2 = [int(x) for x in input(\"Enter 2 nos:\").split(\" \")] \n",
    "min_num = min(inp1,inp2)\n",
    "for i in range(1, min_num+1):\n",
    "    if((inp1 % i == 0) and (inp2 % i == 0)):\n",
    "        hcf = i \n",
    "print(f\"HCF of {inp1} and {inp2}: {hcf}\")\n"
   ]
  },
  {
   "cell_type": "code",
   "execution_count": 3,
   "id": "7aaac73f",
   "metadata": {},
   "outputs": [
    {
     "name": "stdout",
     "output_type": "stream",
     "text": [
      "Enter a number:355\n",
      "\n",
      "The equivalent of 355 in-\n",
      "\tBinary: 0b101100011\n",
      "\tOctal: 0o543\n",
      "\tHexadecimal: 0x163\n"
     ]
    }
   ],
   "source": [
    "#3\n",
    "\n",
    "inp_ = int(input(\"Enter a number:\"))\n",
    "\n",
    "bina = bin(inp_)\n",
    "octa = oct(inp_)\n",
    "hexa = hex(inp_)\n",
    "\n",
    "print(f\"\\nThe equivalent of {inp_} in-\\n\\tBinary: {bina}\\n\\tOctal: {octa}\\n\\tHexadecimal: {hexa}\")"
   ]
  },
  {
   "cell_type": "code",
   "execution_count": 4,
   "id": "f3300ff6",
   "metadata": {},
   "outputs": [
    {
     "name": "stdout",
     "output_type": "stream",
     "text": [
      "Enter a character:v\n",
      "ASCII equivalent of v: 118\n"
     ]
    }
   ],
   "source": [
    "#4\n",
    "\n",
    "inpu_ = input(\"Enter a character:\")\n",
    "print(f\"ASCII equivalent of {inpu_}: {ord(inpu_)}\")"
   ]
  },
  {
   "cell_type": "code",
   "execution_count": 5,
   "id": "7ec83ab8",
   "metadata": {},
   "outputs": [
    {
     "name": "stdout",
     "output_type": "stream",
     "text": [
      "Calculator\n",
      "\n",
      "Enter 2 numbers: 12 21\n",
      "\t1.Addition 2.Subtraction 3.Multiplication 4.Division\n",
      "Enter the operation to be performed: 4\n",
      "0.5714285714285714\n"
     ]
    }
   ],
   "source": [
    "#5\n",
    "\n",
    "def calc(user_inp1,user_inp2,operation_inp):\n",
    "    if (operation_inp == 1) :\n",
    "        return user_inp1+user_inp2\n",
    "    elif operation_inp == 2:\n",
    "        return user_inp1-user_inp2\n",
    "    elif operation_inp == 3:\n",
    "        return user_inp1*user_inp2\n",
    "    elif operation_inp == 4 and user_inp2 != 0:\n",
    "        return user_inp1/user_inp2\n",
    "    else:\n",
    "        return False\n",
    "    \n",
    "print(\"Calculator\\n\")\n",
    "user_inp1, user_inp2 = [int(x) for x in input(\"Enter 2 numbers: \").split(\" \")] \n",
    "print(\"\\t1.Addition 2.Subtraction 3.Multiplication 4.Division\")\n",
    "operation_inp = int(input(\"Enter the operation to be performed: \"))\n",
    "print(calc(user_inp1,user_inp2,operation_inp))"
   ]
  }
 ],
 "metadata": {
  "kernelspec": {
   "display_name": "Python 3 (ipykernel)",
   "language": "python",
   "name": "python3"
  },
  "language_info": {
   "codemirror_mode": {
    "name": "ipython",
    "version": 3
   },
   "file_extension": ".py",
   "mimetype": "text/x-python",
   "name": "python",
   "nbconvert_exporter": "python",
   "pygments_lexer": "ipython3",
   "version": "3.9.12"
  }
 },
 "nbformat": 4,
 "nbformat_minor": 5
}
