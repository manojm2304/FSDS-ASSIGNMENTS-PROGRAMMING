{
 "cells": [
  {
   "cell_type": "markdown",
   "id": "a0297cf6",
   "metadata": {},
   "source": [
    "# PYTHON PROGRAMMING BASIC ASSIGNMENT-1"
   ]
  },
  {
   "cell_type": "markdown",
   "id": "0552e747",
   "metadata": {},
   "source": [
    "1.\tWrite a Python program to print \"Hello Python\"?\n",
    "2.\tWrite a Python program to do arithmetical operations addition and division.?\n",
    "3.\tWrite a Python program to find the area of a triangle?\n",
    "4.\tWrite a Python program to swap two variables?\n",
    "5.\tWrite a Python program to generate a random number?"
   ]
  },
  {
   "cell_type": "code",
   "execution_count": 1,
   "id": "549e8c7b",
   "metadata": {},
   "outputs": [
    {
     "name": "stdout",
     "output_type": "stream",
     "text": [
      "Hello Python\n"
     ]
    }
   ],
   "source": [
    "#1\n",
    "\n",
    "print(\"Hello Python\")"
   ]
  },
  {
   "cell_type": "code",
   "execution_count": 2,
   "id": "e2c9fdd5",
   "metadata": {},
   "outputs": [
    {
     "name": "stdout",
     "output_type": "stream",
     "text": [
      "sum: 12\n",
      "Division: 5.0\n"
     ]
    }
   ],
   "source": [
    "#2\n",
    "\n",
    "a=10\n",
    "b=2\n",
    "\n",
    "#ADDITION\n",
    "c=a+b\n",
    "print(\"sum:\",c)\n",
    "\n",
    "#DIVISION\n",
    "d=a/b\n",
    "print(\"Division:\",d)"
   ]
  },
  {
   "cell_type": "code",
   "execution_count": 3,
   "id": "34075bc0",
   "metadata": {},
   "outputs": [
    {
     "name": "stdout",
     "output_type": "stream",
     "text": [
      "Enter base and height: 12 26.24\n",
      "Area: 157.44\n"
     ]
    }
   ],
   "source": [
    "#3\n",
    "#area of a triangle=0.5*base*height\n",
    "\n",
    "base,height = [float(x) for x in input(\"Enter base and height: \").split(\" \")]\n",
    "\n",
    "area = 0.5*base*height\n",
    "print(\"Area:\",area)"
   ]
  },
  {
   "cell_type": "code",
   "execution_count": 4,
   "id": "c08d13f1",
   "metadata": {},
   "outputs": [
    {
     "name": "stdout",
     "output_type": "stream",
     "text": [
      "value before swap x=10 , y=20\n",
      "value after swap x=20 , y=10\n"
     ]
    }
   ],
   "source": [
    "#4\n",
    "\n",
    "x = 10\n",
    "y = 20\n",
    "\n",
    "print(f\"value before swap x={x} , y={y}\")\n",
    "temp = x\n",
    "x = y\n",
    "y = temp\n",
    "print(f\"value after swap x={x} , y={y}\")\n"
   ]
  },
  {
   "cell_type": "code",
   "execution_count": 5,
   "id": "e27d1438",
   "metadata": {},
   "outputs": [
    {
     "name": "stdout",
     "output_type": "stream",
     "text": [
      "random number: 0.12909248767407044\n"
     ]
    }
   ],
   "source": [
    "#5\n",
    "\n",
    "import random\n",
    "rand_num = random.random()\n",
    "print(\"random number:\",rand_num)"
   ]
  }
 ],
 "metadata": {
  "kernelspec": {
   "display_name": "Python 3 (ipykernel)",
   "language": "python",
   "name": "python3"
  },
  "language_info": {
   "codemirror_mode": {
    "name": "ipython",
    "version": 3
   },
   "file_extension": ".py",
   "mimetype": "text/x-python",
   "name": "python",
   "nbconvert_exporter": "python",
   "pygments_lexer": "ipython3",
   "version": "3.9.12"
  }
 },
 "nbformat": 4,
 "nbformat_minor": 5
}
